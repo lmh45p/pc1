{
  "nbformat": 4,
  "nbformat_minor": 0,
  "metadata": {
    "colab": {
      "provenance": [],
      "include_colab_link": true
    },
    "kernelspec": {
      "name": "python3",
      "display_name": "Python 3"
    },
    "language_info": {
      "name": "python"
    }
  },
  "cells": [
    {
      "cell_type": "markdown",
      "metadata": {
        "id": "view-in-github",
        "colab_type": "text"
      },
      "source": [
        "<a href=\"https://colab.research.google.com/github/lmh45p/pc1/blob/main/Copia_de_Ejercicios_de_repado_G8.ipynb\" target=\"_parent\"><img src=\"https://colab.research.google.com/assets/colab-badge.svg\" alt=\"Open In Colab\"/></a>"
      ]
    },
    {
      "cell_type": "markdown",
      "source": [
        "# 1. Crea una lista de 10 números e imprime los valores negativos en otra lista"
      ],
      "metadata": {
        "id": "_iQKUUQI7NYI"
      }
    },
    {
      "cell_type": "code",
      "source": [
        "{1,2,3,4}\n"
      ],
      "metadata": {
        "colab": {
          "base_uri": "https://localhost:8080/"
        },
        "id": "RiV_Feum4M2D",
        "outputId": "f2ab4156-5f39-4978-beaa-396207c8431c"
      },
      "execution_count": null,
      "outputs": [
        {
          "output_type": "execute_result",
          "data": {
            "text/plain": [
              "{1, 2, 3, 4}"
            ]
          },
          "metadata": {},
          "execution_count": 13
        }
      ]
    },
    {
      "cell_type": "code",
      "source": [
        "import numpy as np"
      ],
      "metadata": {
        "id": "u8v9dnCj5A1j"
      },
      "execution_count": null,
      "outputs": []
    },
    {
      "cell_type": "code",
      "source": [
        "mis_numeros = np.random.randint(1,20,size=10)"
      ],
      "metadata": {
        "id": "78cecz5857_U"
      },
      "execution_count": null,
      "outputs": []
    },
    {
      "cell_type": "code",
      "source": [
        "len(mis_numeros)"
      ],
      "metadata": {
        "colab": {
          "base_uri": "https://localhost:8080/"
        },
        "id": "4PLix3II6xZD",
        "outputId": "189a5b87-e59a-4c89-ce05-83b8f5209178"
      },
      "execution_count": null,
      "outputs": [
        {
          "output_type": "execute_result",
          "data": {
            "text/plain": [
              "10"
            ]
          },
          "metadata": {},
          "execution_count": 16
        }
      ]
    },
    {
      "cell_type": "markdown",
      "source": [
        "# 2. Escribe una matriz de 3x3 con números float distintos"
      ],
      "metadata": {
        "id": "g-4ebg569duT"
      }
    },
    {
      "cell_type": "code",
      "source": [
        "numeros = [[1,2,3],[4,5,6],[7,2,9]]"
      ],
      "metadata": {
        "id": "DJjKdVHG98y6"
      },
      "execution_count": null,
      "outputs": []
    },
    {
      "cell_type": "code",
      "source": [
        "type([[1,2,3],[4,5,6],[7,2,9]])"
      ],
      "metadata": {
        "id": "N5tBXsKb9iQl",
        "outputId": "96035b98-f86d-4e14-e6fa-8393cecfa98b",
        "colab": {
          "base_uri": "https://localhost:8080/"
        }
      },
      "execution_count": null,
      "outputs": [
        {
          "output_type": "execute_result",
          "data": {
            "text/plain": [
              "list"
            ]
          },
          "metadata": {},
          "execution_count": 9
        }
      ]
    },
    {
      "cell_type": "code",
      "source": [
        "numeros[2][1]"
      ],
      "metadata": {
        "id": "VL1-jy6W99oI",
        "outputId": "828d6223-c263-4e9d-8695-60431e241d0d",
        "colab": {
          "base_uri": "https://localhost:8080/"
        }
      },
      "execution_count": null,
      "outputs": [
        {
          "output_type": "execute_result",
          "data": {
            "text/plain": [
              "2"
            ]
          },
          "metadata": {},
          "execution_count": 12
        }
      ]
    },
    {
      "cell_type": "code",
      "source": [
        "np.random.random_sample((3,3))"
      ],
      "metadata": {
        "id": "SqJvgKNf99fA",
        "outputId": "effd76ef-767c-48dd-e08b-37990d8e1d28",
        "colab": {
          "base_uri": "https://localhost:8080/"
        }
      },
      "execution_count": null,
      "outputs": [
        {
          "output_type": "execute_result",
          "data": {
            "text/plain": [
              "array([[0.45068743, 0.65139293, 0.0267995 ],\n",
              "       [0.73492229, 0.34157174, 0.82174192],\n",
              "       [0.9557425 , 0.49608788, 0.94291076]])"
            ]
          },
          "metadata": {},
          "execution_count": 17
        }
      ]
    },
    {
      "cell_type": "code",
      "source": [],
      "metadata": {
        "id": "fScZuQU-99W2"
      },
      "execution_count": null,
      "outputs": []
    },
    {
      "cell_type": "markdown",
      "source": [
        "# 3. Crea una matriz A de 3x3 y 2 matrices (B y C) de 3x1 con números enteros distintos y calcula AxB+C"
      ],
      "metadata": {
        "id": "OpfO_Yz1B4kC"
      }
    },
    {
      "cell_type": "code",
      "source": [
        "A = np.random.random_sample((3,3))\n",
        "B = np.random.random_sample((3,2))\n",
        "C = np.random.random_sample((3,1))"
      ],
      "metadata": {
        "id": "DETP9JSj_Clx"
      },
      "execution_count": null,
      "outputs": []
    },
    {
      "cell_type": "code",
      "source": [
        "A.shape, B.shape, C.shape"
      ],
      "metadata": {
        "id": "Wa5f6EqfAIlN",
        "outputId": "bc45cec2-f36b-4399-902e-441f928f4599",
        "colab": {
          "base_uri": "https://localhost:8080/"
        }
      },
      "execution_count": null,
      "outputs": [
        {
          "output_type": "execute_result",
          "data": {
            "text/plain": [
              "((3, 3), (3, 2), (3, 1))"
            ]
          },
          "metadata": {},
          "execution_count": 19
        }
      ]
    },
    {
      "cell_type": "code",
      "source": [],
      "metadata": {
        "id": "DVhKj8BHAbRR"
      },
      "execution_count": null,
      "outputs": []
    },
    {
      "cell_type": "markdown",
      "source": [
        "# 4. Disponer de números enteros desde el 1 hasta el 100 y cambiar los múltiplos de 3 por el string “m3”"
      ],
      "metadata": {
        "id": "O3zelPWUGdBI"
      }
    },
    {
      "cell_type": "markdown",
      "source": [
        "# 5. Recorriendo la matriz A del ejercicio 3, calcular la traza de la matriz transpuesta"
      ],
      "metadata": {
        "id": "vrWo89ffGqu9"
      }
    },
    {
      "cell_type": "markdown",
      "source": [
        "# 6. Encuentra un autovalor y su autovector, para la matriz D. Puedes ayudarte multiplicando D con las matrices de 2x1 E, F y G\n",
        "\n",
        "Si:\n",
        "\n",
        "D = np.array([[3, 2], [1, 4]])\n",
        "\n",
        "E = np.array([[1,0]])\n",
        "\n",
        "F = np.array([[0,1]])\n",
        "\n",
        "G = np.array([[1,1]])"
      ],
      "metadata": {
        "id": "jWHAAPUfGrN1"
      }
    }
  ]
}